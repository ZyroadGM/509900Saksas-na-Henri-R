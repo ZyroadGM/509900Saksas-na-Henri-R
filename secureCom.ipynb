{
  "nbformat": 4,
  "nbformat_minor": 0,
  "metadata": {
    "colab": {
      "provenance": [],
      "authorship_tag": "ABX9TyN/iyqrltgFL5D/zqrUohD4",
      "include_colab_link": true
    },
    "kernelspec": {
      "name": "python3",
      "display_name": "Python 3"
    },
    "language_info": {
      "name": "python"
    }
  },
  "cells": [
    {
      "cell_type": "markdown",
      "metadata": {
        "id": "view-in-github",
        "colab_type": "text"
      },
      "source": [
        "<a href=\"https://colab.research.google.com/github/ZyroadGM/509900Saksas-na-Henri-R/blob/master/secureCom.ipynb\" target=\"_parent\"><img src=\"https://colab.research.google.com/assets/colab-badge.svg\" alt=\"Open In Colab\"/></a>"
      ]
    },
    {
      "cell_type": "code",
      "source": [
        "import random\n",
        "import base64\n",
        "from sympy import isprime, mod_inverse\n",
        "\n",
        "def generate_prime(bits=512):\n",
        "    \"\"\"Generate a random prime number with the given bit length.\"\"\"\n",
        "    while True:\n",
        "        num = random.getrandbits(bits)\n",
        "        if isprime(num):\n",
        "            return num\n",
        "\n",
        "def asymmetricGenerateKeys(bits=512):\n",
        "    \"\"\"Generate RSA public and private keys.\"\"\"\n",
        "    p = generate_prime(bits)\n",
        "    q = generate_prime(bits)\n",
        "    n = p * q\n",
        "    phi_n = (p - 1) * (q - 1)\n",
        "\n",
        "    e = 65537\n",
        "    while e >= phi_n or phi_n % e == 0:\n",
        "        e = random.randrange(2, phi_n)\n",
        "\n",
        "    d = mod_inverse(e, phi_n)\n",
        "    return ((e, n), (d, n))\n",
        "\n",
        "def asymmetricEncrypt(message, public_key):\n",
        "    \"\"\"Encrypt a message and return a Base64-encoded string.\"\"\"\n",
        "    e, n = public_key\n",
        "    m = int.from_bytes(message.encode(), 'big')  # Convert message to integer\n",
        "    c = pow(m, e, n)  # RSA encryption\n",
        "    return base64.b64encode(str(c).encode()).decode()  # Make it printable\n",
        "\n",
        "def asymmetricDecrypt(ciphertext, private_key):\n",
        "    \"\"\"Decrypt a Base64-encoded ciphertext back to a message.\"\"\"\n",
        "    d, n = private_key\n",
        "    try:\n",
        "        c = int(base64.b64decode(ciphertext).decode())  # Decode from Base64\n",
        "        m = pow(c, d, n)  # RSA decryption\n",
        "        return m.to_bytes((m.bit_length() + 7) // 8, 'big').decode('utf-8')  # Convert to string\n",
        "    except (UnicodeDecodeError, ValueError):\n",
        "        print(\"Decryption failed: Invalid ciphertext or incorrect key.\")\n",
        "        return None\n",
        "\n",
        "# Example Usage\n",
        "public_key, private_key = asymmetricGenerateKeys(512)  # Generate RSA keys\n",
        "print(f\"Public Key: {public_key}\")\n",
        "print(f\"Private Key: {private_key}\")\n",
        "\n",
        "message = \"Hello, RSA with Base64!\"\n",
        "ciphertext = asymmetricEncrypt(message, public_key)\n",
        "print(f\"Encrypted (Base64): {ciphertext}\")\n",
        "\n",
        "decrypted_message = asymmetricDecrypt(ciphertext, private_key)\n",
        "if decrypted_message:\n",
        "    print(f\"Decrypted Message: {decrypted_message}\")\n",
        "else:\n",
        "    print(\"Decryption failed!\")\n"
      ],
      "metadata": {
        "colab": {
          "base_uri": "https://localhost:8080/"
        },
        "id": "H0F9CcIhjMBN",
        "outputId": "11b26d56-d396-4929-e599-7cf650a3f4d1"
      },
      "execution_count": null,
      "outputs": [
        {
          "output_type": "stream",
          "name": "stdout",
          "text": [
            "Public Key: (65537, 3480102563014360870766006923750692351602204582731668303987728837843944203997428233350651080849840253974025519067580331989059572510718997258021623363073466068779892582625356983618475156179829851654187821592627105381174656319061842201483381537063822293231596693241871655392910108043450996566253826282527627447)\n",
            "Private Key: (2357858829447894559479729090976120244872250638372740096464090873655868509240548176533392739108830993136833469996456497570993670723308293563146530085151150402103922787718741614201951116985349743608609057225102135368573114154477284211988155354661269826069011872315341516210188965672713053326782693629193663257, 3480102563014360870766006923750692351602204582731668303987728837843944203997428233350651080849840253974025519067580331989059572510718997258021623363073466068779892582625356983618475156179829851654187821592627105381174656319061842201483381537063822293231596693241871655392910108043450996566253826282527627447)\n",
            "Encrypted (Base64): MjA1NzAzNzg1NTkwNzczMDA0OTMzNTE2NjcyMTE5NjY1Mzk3MDI1MzU4MjYwMDQzMDQzMTMzNDE5Mzc3NTgyOTY5Njc3MzY5NDY5MjYyMzMxMzA0ODUxMTU1NjE5Mjk5MTQxMzMyMTEwNzk0NTQ4NDM4NTg2MjE3NTI1OTIxNDYwNzQ4MjUyOTQwNzMzMTYzMjc3MTU1NzY4OTAyMDcxODQ2MjA4NDQ5MTU5MzUyOTE2NTkxNDY5ODExNTUxNzc0ODU5MTIxMzUxOTM4NjUzMjg3NjMyNzkzNjg1ODQxMTc0OTEzOTk3MDA5MjM0NTQxMDgwOTg2Nzk5OTYyNzY3MjQzNTU2ODYwNjQ2ODY0ODc2NTM5NjczNjc4MzAwNTI3MjI5MjMxNDE0NTYwNTU1NjExMg==\n",
            "Decrypted Message: Hello, RSA with Base64!\n"
          ]
        }
      ]
    },
    {
      "cell_type": "code",
      "source": [
        "import base64\n",
        "def symmetricGenerateKeys(bits=512):\n",
        "    return str(random.getrandbits(bits))\n",
        "\n",
        "def symmetricEncrypt(kood, võti):\n",
        "    \"\"\"Encrypt a message using XOR and Base64 encoding.\"\"\"\n",
        "    packet_size = len(võti)\n",
        "    if packet_size > 1:\n",
        "        kood = [kood[i:i+packet_size] for i in range(0, len(kood), packet_size)]\n",
        "    else:\n",
        "        kood = [kood]\n",
        "\n",
        "    vastus = \"\".join([chr(ord(c) ^ ord(võti[i])) for packet in kood for i, c in enumerate(packet)])\n",
        "    return base64.b64encode(vastus.encode()).decode()\n",
        "\n",
        "def symmetricDecrypt(kood, võti):\n",
        "    \"\"\"Decrypt a message that was encrypted using the encrypt function.\"\"\"\n",
        "    # Base64 decode first\n",
        "    kood = base64.b64decode(kood).decode()\n",
        "\n",
        "    packet_size = len(võti)\n",
        "    if packet_size > 1:\n",
        "        kood = [kood[i:i+packet_size] for i in range(0, len(kood), packet_size)]\n",
        "    else:\n",
        "        kood = [kood]\n",
        "\n",
        "    # XOR Decryption (same as encryption)\n",
        "    vastus = \"\".join([chr(ord(c) ^ ord(võti[i])) for packet in kood for i, c in enumerate(packet)])\n",
        "    return vastus\n",
        "\n",
        "# Example Usage\n",
        "sõnum = \"test\"\n",
        "võti = symmetricGenerateKeys(len(sõnum))\n",
        "print(f\"Võti: {võti}\")\n",
        "\n",
        "encrypted_once = symmetricEncrypt(sõnum, võti)\n",
        "encrypted_twice = symmetricEncrypt(encrypted_once, võti)\n",
        "\n",
        "# Decryption Process\n",
        "decrypted_once = symmetricDecrypt(encrypted_twice, võti)\n",
        "decrypted_twice = symmetricDecrypt(decrypted_once, võti)\n",
        "\n",
        "print(f\"Encrypted Once: {encrypted_once}\")\n",
        "print(f\"Encrypted Twice: {encrypted_twice}\")\n",
        "print(f\"Decrypted Once: {decrypted_once}\")\n",
        "print(f\"Decrypted Twice (Original): {decrypted_twice}\")\n"
      ],
      "metadata": {
        "colab": {
          "base_uri": "https://localhost:8080/"
        },
        "id": "PRPum2fFy7M_",
        "outputId": "c6b53c05-1f14-4966-94a1-9a6fb533255d"
      },
      "execution_count": null,
      "outputs": [
        {
          "output_type": "stream",
          "name": "stdout",
          "text": [
            "Võti: 15\n",
            "Encrypted Once: RVBCQQ==\n",
            "Encrypted Twice: Y2NzdmBkDAg=\n",
            "Decrypted Once: RVBCQQ==\n",
            "Decrypted Twice (Original): test\n"
          ]
        }
      ]
    },
    {
      "cell_type": "code",
      "source": [
        "class AllkirjadeAndmebaas:\n",
        "    def __init__(self):\n",
        "        self.allkirjadPrivate = {}  # {nimi: (allkiri, private)}\n",
        "\n",
        "    def kontrolliAllkirja(self, name, cypher):\n",
        "        (allkiri, private) = self.allkirjadPrivate[name]\n",
        "        # The cypher should be the ENCRYPTED signature, not the signature itself\n",
        "        decrypted_cypher = asymmetricDecrypt(cypher, private)\n",
        "        # Compare the decrypted cypher with the stored signature\n",
        "        if decrypted_cypher == allkiri:\n",
        "            return True\n",
        "        else:\n",
        "            return False\n",
        "\n",
        "    def looAllkirja(self, nimi, bits=512):\n",
        "        if nimi in self.allkirjadPrivate:\n",
        "            return None\n",
        "        public_key, private_key = asymmetricGenerateKeys(512)\n",
        "        # Change random.str to str(random.getrandbits(bits))\n",
        "        cypher = str(random.getrandbits(bits))  # Convert random bits to string using str()\n",
        "        self.allkirjadPrivate[nimi] = (cypher, private_key)\n",
        "        return public_key, cypher"
      ],
      "metadata": {
        "id": "EXvKUx0gz6lF"
      },
      "execution_count": null,
      "outputs": []
    },
    {
      "cell_type": "code",
      "execution_count": null,
      "metadata": {
        "id": "6BoB3PSMcekv"
      },
      "outputs": [],
      "source": [
        "class Klient:\n",
        "    def __init__(self, nimi, AllkirjadeAndmebaas_):\n",
        "        self.nimi = nimi\n",
        "        self.allkiri = AllkirjadeAndmebaas_.looAllkirja(nimi)\n",
        "        self.AllkirjadeAndmebaas_ = AllkirjadeAndmebaas_\n",
        "\n",
        "        if self.allkiri is None:\n",
        "            raise Exception(\"See nimi on juba kasutusel\")\n",
        "\n",
        "        self.uhendusAllkiri = None\n",
        "        self.uhendusSessionVoti = None\n",
        "\n",
        "    def looUhendus(self, klient, nimi):\n",
        "        # Encrypt the signature before sending\n",
        "        encrypted_signature = asymmetricEncrypt(self.allkiri[0], klient.allkiri[0])\n",
        "        klientAllkiri = klient.vastaUhendus(nimi, encrypted_signature)\n",
        "        if klientAllkiri is None or not self.AllkirjadeAndmebaas_.kontrolliAllkirja(nimi, klientAllkiri):\n",
        "            return None\n",
        "\n",
        "        print(\"Loodud ühendus: vahetame session võtit\")\n",
        "        self.uhendusSessionVoti = symmetricGenerateKeys()\n",
        "        klient.lopetaUhendus(asymmetricEncrypt(self.uhendusSessionVoti, klientAllkiri))\n",
        "\n",
        "    def lopetaUhendus(self, cytherSessionVoti):\n",
        "        self.uhendusSessionVoti = asymmetricDecrypt(cytherSessionVoti, self.allkiri)\n",
        "        self.uhendusAllkiri = None\n",
        "\n",
        "    def vastaUhendus(self, nimi, allkiri):\n",
        "        if not self.AllkirjadeAndmebaas_.kontrolliAllkirja(nimi, allkiri):\n",
        "            return None\n",
        "        # Encrypt the signature before sending\n",
        "        encrypted_signature = asymmetricEncrypt(self.allkiri[0], allkiri)\n",
        "        return encrypted_signature\n",
        "\n",
        "    def send(self, klient, sonum):\n",
        "        if self.uhendusSessionVoti is None:\n",
        "            return None\n",
        "        klient.sonumPuua(symmetricEncrypt(sonum, self.uhendusSessionVoti))\n",
        "\n",
        "    def sonumPuua(self, cypher):\n",
        "        print(f\"{self.nimi} received: {symmetricDecrypt(cypher, self.uhendusSessionVoti)}\")\n"
      ]
    },
    {
      "cell_type": "code",
      "source": [
        "db = AllkirjadeAndmebaas()\n",
        "\n",
        "# Create two clients\n",
        "klient1 = Klient(\"Alice\", db)\n",
        "klient2 = Klient(\"Bob\", db)\n",
        "\n",
        "# Step 1: Establish a connection between Alice and Bob\n",
        "print(\"\\n[TEST] Establishing connection...\")\n",
        "klient1.looUhendus(klient2, \"Bob\")\n",
        "\n",
        "# Step 2: Check if the connection was successful\n",
        "if klient1.uhendusSessionVoti and klient2.uhendusSessionVoti:\n",
        "    print(\"[SUCCESS] Connection established!\\n\")\n",
        "else:\n",
        "    print(\"[FAIL] Connection failed!\\n\")\n",
        "\n",
        "# Step 3: Alice sends a message to Bob\n",
        "print(\"[TEST] Alice sends a message to Bob...\")\n",
        "klient1.send(klient2, \"Hello, Bob!\")\n",
        "\n",
        "# Step 4: Bob sends a message to Alice\n",
        "print(\"[TEST] Bob sends a message to Alice...\")\n",
        "klient2.send(klient1, \"Hi Alice! Nice to meet you.\")\n",
        "\n",
        "# Step 5: Test invalid connection attempt (Duplicate name)\n",
        "print(\"\\n[TEST] Attempting to create a new client with Alice's name...\")\n",
        "try:\n",
        "    klient3 = Klient(\"Alice\", db)\n",
        "except Exception as e:\n",
        "    print(f\"[EXPECTED ERROR] {e}\")\n",
        "\n",
        "print(\"\\n[TEST COMPLETE]\")"
      ],
      "metadata": {
        "colab": {
          "base_uri": "https://localhost:8080/",
          "height": 391
        },
        "id": "IABrnrlpwAi0",
        "outputId": "d6c02d3b-f62b-4753-b4b1-4e5d0fc02983"
      },
      "execution_count": null,
      "outputs": [
        {
          "output_type": "stream",
          "name": "stdout",
          "text": [
            "\n",
            "[TEST] Establishing connection...\n"
          ]
        },
        {
          "output_type": "error",
          "ename": "AttributeError",
          "evalue": "'tuple' object has no attribute 'encode'",
          "traceback": [
            "\u001b[0;31m---------------------------------------------------------------------------\u001b[0m",
            "\u001b[0;31mAttributeError\u001b[0m                            Traceback (most recent call last)",
            "\u001b[0;32m<ipython-input-15-26e43f6af730>\u001b[0m in \u001b[0;36m<cell line: 0>\u001b[0;34m()\u001b[0m\n\u001b[1;32m      7\u001b[0m \u001b[0;31m# Step 1: Establish a connection between Alice and Bob\u001b[0m\u001b[0;34m\u001b[0m\u001b[0;34m\u001b[0m\u001b[0m\n\u001b[1;32m      8\u001b[0m \u001b[0mprint\u001b[0m\u001b[0;34m(\u001b[0m\u001b[0;34m\"\\n[TEST] Establishing connection...\"\u001b[0m\u001b[0;34m)\u001b[0m\u001b[0;34m\u001b[0m\u001b[0;34m\u001b[0m\u001b[0m\n\u001b[0;32m----> 9\u001b[0;31m \u001b[0mklient1\u001b[0m\u001b[0;34m.\u001b[0m\u001b[0mlooUhendus\u001b[0m\u001b[0;34m(\u001b[0m\u001b[0mklient2\u001b[0m\u001b[0;34m,\u001b[0m \u001b[0;34m\"Bob\"\u001b[0m\u001b[0;34m)\u001b[0m\u001b[0;34m\u001b[0m\u001b[0;34m\u001b[0m\u001b[0m\n\u001b[0m\u001b[1;32m     10\u001b[0m \u001b[0;34m\u001b[0m\u001b[0m\n\u001b[1;32m     11\u001b[0m \u001b[0;31m# Step 2: Check if the connection was successful\u001b[0m\u001b[0;34m\u001b[0m\u001b[0;34m\u001b[0m\u001b[0m\n",
            "\u001b[0;32m<ipython-input-13-aec8540e3f3b>\u001b[0m in \u001b[0;36mlooUhendus\u001b[0;34m(self, klient, nimi)\u001b[0m\n\u001b[1;32m     13\u001b[0m     \u001b[0;32mdef\u001b[0m \u001b[0mlooUhendus\u001b[0m\u001b[0;34m(\u001b[0m\u001b[0mself\u001b[0m\u001b[0;34m,\u001b[0m \u001b[0mklient\u001b[0m\u001b[0;34m,\u001b[0m \u001b[0mnimi\u001b[0m\u001b[0;34m)\u001b[0m\u001b[0;34m:\u001b[0m\u001b[0;34m\u001b[0m\u001b[0;34m\u001b[0m\u001b[0m\n\u001b[1;32m     14\u001b[0m         \u001b[0;31m# Encrypt the signature before sending\u001b[0m\u001b[0;34m\u001b[0m\u001b[0;34m\u001b[0m\u001b[0m\n\u001b[0;32m---> 15\u001b[0;31m         \u001b[0mencrypted_signature\u001b[0m \u001b[0;34m=\u001b[0m \u001b[0masymmetricEncrypt\u001b[0m\u001b[0;34m(\u001b[0m\u001b[0mself\u001b[0m\u001b[0;34m.\u001b[0m\u001b[0mallkiri\u001b[0m\u001b[0;34m[\u001b[0m\u001b[0;36m0\u001b[0m\u001b[0;34m]\u001b[0m\u001b[0;34m,\u001b[0m \u001b[0mklient\u001b[0m\u001b[0;34m.\u001b[0m\u001b[0mallkiri\u001b[0m\u001b[0;34m[\u001b[0m\u001b[0;36m0\u001b[0m\u001b[0;34m]\u001b[0m\u001b[0;34m)\u001b[0m\u001b[0;34m\u001b[0m\u001b[0;34m\u001b[0m\u001b[0m\n\u001b[0m\u001b[1;32m     16\u001b[0m         \u001b[0mklientAllkiri\u001b[0m \u001b[0;34m=\u001b[0m \u001b[0mklient\u001b[0m\u001b[0;34m.\u001b[0m\u001b[0mvastaUhendus\u001b[0m\u001b[0;34m(\u001b[0m\u001b[0mnimi\u001b[0m\u001b[0;34m,\u001b[0m \u001b[0mencrypted_signature\u001b[0m\u001b[0;34m)\u001b[0m\u001b[0;34m\u001b[0m\u001b[0;34m\u001b[0m\u001b[0m\n\u001b[1;32m     17\u001b[0m         \u001b[0;32mif\u001b[0m \u001b[0mklientAllkiri\u001b[0m \u001b[0;32mis\u001b[0m \u001b[0;32mNone\u001b[0m \u001b[0;32mor\u001b[0m \u001b[0;32mnot\u001b[0m \u001b[0mself\u001b[0m\u001b[0;34m.\u001b[0m\u001b[0mAllkirjadeAndmebaas_\u001b[0m\u001b[0;34m.\u001b[0m\u001b[0mkontrolliAllkirja\u001b[0m\u001b[0;34m(\u001b[0m\u001b[0mnimi\u001b[0m\u001b[0;34m,\u001b[0m \u001b[0mklientAllkiri\u001b[0m\u001b[0;34m)\u001b[0m\u001b[0;34m:\u001b[0m\u001b[0;34m\u001b[0m\u001b[0;34m\u001b[0m\u001b[0m\n",
            "\u001b[0;32m<ipython-input-6-0ef1f20a4156>\u001b[0m in \u001b[0;36masymmetricEncrypt\u001b[0;34m(message, public_key)\u001b[0m\n\u001b[1;32m     27\u001b[0m     \u001b[0;34m\"\"\"Encrypt a message and return a Base64-encoded string.\"\"\"\u001b[0m\u001b[0;34m\u001b[0m\u001b[0;34m\u001b[0m\u001b[0m\n\u001b[1;32m     28\u001b[0m     \u001b[0me\u001b[0m\u001b[0;34m,\u001b[0m \u001b[0mn\u001b[0m \u001b[0;34m=\u001b[0m \u001b[0mpublic_key\u001b[0m\u001b[0;34m\u001b[0m\u001b[0;34m\u001b[0m\u001b[0m\n\u001b[0;32m---> 29\u001b[0;31m     \u001b[0mm\u001b[0m \u001b[0;34m=\u001b[0m \u001b[0mint\u001b[0m\u001b[0;34m.\u001b[0m\u001b[0mfrom_bytes\u001b[0m\u001b[0;34m(\u001b[0m\u001b[0mmessage\u001b[0m\u001b[0;34m.\u001b[0m\u001b[0mencode\u001b[0m\u001b[0;34m(\u001b[0m\u001b[0;34m)\u001b[0m\u001b[0;34m,\u001b[0m \u001b[0;34m'big'\u001b[0m\u001b[0;34m)\u001b[0m  \u001b[0;31m# Convert message to integer\u001b[0m\u001b[0;34m\u001b[0m\u001b[0;34m\u001b[0m\u001b[0m\n\u001b[0m\u001b[1;32m     30\u001b[0m     \u001b[0mc\u001b[0m \u001b[0;34m=\u001b[0m \u001b[0mpow\u001b[0m\u001b[0;34m(\u001b[0m\u001b[0mm\u001b[0m\u001b[0;34m,\u001b[0m \u001b[0me\u001b[0m\u001b[0;34m,\u001b[0m \u001b[0mn\u001b[0m\u001b[0;34m)\u001b[0m  \u001b[0;31m# RSA encryption\u001b[0m\u001b[0;34m\u001b[0m\u001b[0;34m\u001b[0m\u001b[0m\n\u001b[1;32m     31\u001b[0m     \u001b[0;32mreturn\u001b[0m \u001b[0mbase64\u001b[0m\u001b[0;34m.\u001b[0m\u001b[0mb64encode\u001b[0m\u001b[0;34m(\u001b[0m\u001b[0mstr\u001b[0m\u001b[0;34m(\u001b[0m\u001b[0mc\u001b[0m\u001b[0;34m)\u001b[0m\u001b[0;34m.\u001b[0m\u001b[0mencode\u001b[0m\u001b[0;34m(\u001b[0m\u001b[0;34m)\u001b[0m\u001b[0;34m)\u001b[0m\u001b[0;34m.\u001b[0m\u001b[0mdecode\u001b[0m\u001b[0;34m(\u001b[0m\u001b[0;34m)\u001b[0m  \u001b[0;31m# Make it printable\u001b[0m\u001b[0;34m\u001b[0m\u001b[0;34m\u001b[0m\u001b[0m\n",
            "\u001b[0;31mAttributeError\u001b[0m: 'tuple' object has no attribute 'encode'"
          ]
        }
      ]
    }
  ]
}